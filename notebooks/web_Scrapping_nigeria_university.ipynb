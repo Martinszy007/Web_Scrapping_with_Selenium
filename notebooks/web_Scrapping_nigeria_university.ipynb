{
 "cells": [
  {
   "cell_type": "markdown",
   "metadata": {},
   "source": [
    "## Web scrapping with Selenium\n",
    "\n",
    "### Objectives\n",
    "The aim of this notebook is covers basic scrapping of a table of list of Nigeria universities from wikipedia and basic analysis.\n",
    "\n"
   ]
  },
  {
   "cell_type": "markdown",
   "metadata": {},
   "source": [
    "#### import libraries"
   ]
  },
  {
   "cell_type": "code",
   "execution_count": 1,
   "metadata": {},
   "outputs": [],
   "source": [
    "# call the selenium library\n",
    "from selenium import webdriver\n",
    "from webdriver_manager.chrome import ChromeDriverManager\n",
    "from selenium.webdriver.common.by import By\n",
    "import time\n",
    "import pandas as pd\n",
    "import matplotlib.pyplot as plt\n",
    "import seaborn as sns\n",
    "\n",
    "%matplotlib inline"
   ]
  },
  {
   "cell_type": "code",
   "execution_count": 2,
   "metadata": {},
   "outputs": [
    {
     "name": "stdout",
     "output_type": "stream",
     "text": [
      "\n"
     ]
    },
    {
     "name": "stderr",
     "output_type": "stream",
     "text": [
      "[WDM] - ====== WebDriver manager ======\n",
      "[WDM] - Current google-chrome version is 103.0.5060\n",
      "[WDM] - Get LATEST chromedriver version for 103.0.5060 google-chrome\n",
      "[WDM] - Driver [/Users/vivian/.wdm/drivers/chromedriver/mac64/103.0.5060.53/chromedriver] found in cache\n",
      "/var/folders/2h/rx0njqcs4bncwqw7d6hlndrh0000gp/T/ipykernel_94016/2785155791.py:3: DeprecationWarning: executable_path has been deprecated, please pass in a Service object\n",
      "  driver = webdriver.Chrome(ChromeDriverManager().install())\n"
     ]
    }
   ],
   "source": [
    "# open the webpage\n",
    "url = 'https://en.wikipedia.org/wiki/List_of_universities_in_Nigeria'\n",
    "driver = webdriver.Chrome(ChromeDriverManager().install())\n",
    "driver.get(url)\n",
    "time.sleep(6)\n",
    "\n",
    "#attach table header\n",
    "header = []\n",
    "thead = driver.find_element(by=By.TAG_NAME, value=\"thead\")\n",
    "thead_th = thead.find_elements(by=By.TAG_NAME, value=\"th\")\n",
    "for th_row in thead_th:\n",
    "    header.append(th_row.text)\n",
    "    \n",
    "#attach table rows    \n",
    "tr_tags = driver.find_elements(by=By.TAG_NAME, value=\"tr\")\n",
    "data = []\n",
    "for t_row in tr_tags:\n",
    "    td_tags = t_row.find_elements(by=By.TAG_NAME, value=\"td\")\n",
    "    temp_list = []\n",
    "    for t_data in td_tags:\n",
    "        temp_list.append(t_data.text)      \n",
    "    if temp_list and len(temp_list) > 1:\n",
    "            data.append(temp_list)\n",
    "driver.quit()"
   ]
  },
  {
   "cell_type": "code",
   "execution_count": 3,
   "metadata": {},
   "outputs": [
    {
     "name": "stdout",
     "output_type": "stream",
     "text": [
      "['Name', 'State', 'Abbreviation', 'Location', 'Funding', 'Founded']\n"
     ]
    },
    {
     "data": {
      "text/plain": [
       "[['Adekunle Ajasin University',\n",
       "  'Ondo',\n",
       "  'AAUA',\n",
       "  'Akungba-Akoko',\n",
       "  'State',\n",
       "  '1999'],\n",
       " ['Obafemi Awolowo University', 'Osun', 'OAU', 'Ile Ife', 'Federal', '1961'],\n",
       " ['Abia State University', 'Abia', 'ABSU', 'Uturu', 'State', '1981']]"
      ]
     },
     "execution_count": 3,
     "metadata": {},
     "output_type": "execute_result"
    }
   ],
   "source": [
    "#check output\n",
    "print(header)\n",
    "data[:3]"
   ]
  },
  {
   "cell_type": "markdown",
   "metadata": {},
   "source": [
    "#### Data assessment"
   ]
  },
  {
   "cell_type": "code",
   "execution_count": 4,
   "metadata": {},
   "outputs": [
    {
     "name": "stdout",
     "output_type": "stream",
     "text": [
      "(78, 6)\n"
     ]
    },
    {
     "data": {
      "text/html": [
       "<div>\n",
       "<style scoped>\n",
       "    .dataframe tbody tr th:only-of-type {\n",
       "        vertical-align: middle;\n",
       "    }\n",
       "\n",
       "    .dataframe tbody tr th {\n",
       "        vertical-align: top;\n",
       "    }\n",
       "\n",
       "    .dataframe thead th {\n",
       "        text-align: right;\n",
       "    }\n",
       "</style>\n",
       "<table border=\"1\" class=\"dataframe\">\n",
       "  <thead>\n",
       "    <tr style=\"text-align: right;\">\n",
       "      <th></th>\n",
       "      <th>Name</th>\n",
       "      <th>State</th>\n",
       "      <th>Abbreviation</th>\n",
       "      <th>Location</th>\n",
       "      <th>Funding</th>\n",
       "      <th>Founded</th>\n",
       "    </tr>\n",
       "  </thead>\n",
       "  <tbody>\n",
       "    <tr>\n",
       "      <th>0</th>\n",
       "      <td>Adekunle Ajasin University</td>\n",
       "      <td>Ondo</td>\n",
       "      <td>AAUA</td>\n",
       "      <td>Akungba-Akoko</td>\n",
       "      <td>State</td>\n",
       "      <td>1999</td>\n",
       "    </tr>\n",
       "    <tr>\n",
       "      <th>1</th>\n",
       "      <td>Obafemi Awolowo University</td>\n",
       "      <td>Osun</td>\n",
       "      <td>OAU</td>\n",
       "      <td>Ile Ife</td>\n",
       "      <td>Federal</td>\n",
       "      <td>1961</td>\n",
       "    </tr>\n",
       "    <tr>\n",
       "      <th>2</th>\n",
       "      <td>Abia State University</td>\n",
       "      <td>Abia</td>\n",
       "      <td>ABSU</td>\n",
       "      <td>Uturu</td>\n",
       "      <td>State</td>\n",
       "      <td>1981</td>\n",
       "    </tr>\n",
       "    <tr>\n",
       "      <th>3</th>\n",
       "      <td>Joseph Ayo Babalola University</td>\n",
       "      <td>Osun</td>\n",
       "      <td>JABU</td>\n",
       "      <td>Ikeji-Arakeji</td>\n",
       "      <td>Private</td>\n",
       "      <td>2006</td>\n",
       "    </tr>\n",
       "    <tr>\n",
       "      <th>4</th>\n",
       "      <td>Redeemer's University Nigeria</td>\n",
       "      <td>Osun</td>\n",
       "      <td>RUN</td>\n",
       "      <td>Ede</td>\n",
       "      <td>Private</td>\n",
       "      <td>2005</td>\n",
       "    </tr>\n",
       "  </tbody>\n",
       "</table>\n",
       "</div>"
      ],
      "text/plain": [
       "                             Name State Abbreviation       Location  Funding  \\\n",
       "0      Adekunle Ajasin University  Ondo         AAUA  Akungba-Akoko    State   \n",
       "1      Obafemi Awolowo University  Osun          OAU        Ile Ife  Federal   \n",
       "2           Abia State University  Abia         ABSU          Uturu    State   \n",
       "3  Joseph Ayo Babalola University  Osun         JABU  Ikeji-Arakeji  Private   \n",
       "4   Redeemer's University Nigeria  Osun          RUN            Ede  Private   \n",
       "\n",
       "  Founded  \n",
       "0    1999  \n",
       "1    1961  \n",
       "2    1981  \n",
       "3    2006  \n",
       "4    2005  "
      ]
     },
     "execution_count": 4,
     "metadata": {},
     "output_type": "execute_result"
    }
   ],
   "source": [
    "nig_unis = pd.DataFrame(data = data, columns = header)\n",
    "print(nig_unis.shape)\n",
    "nig_unis.head()"
   ]
  },
  {
   "cell_type": "code",
   "execution_count": 5,
   "metadata": {},
   "outputs": [
    {
     "data": {
      "text/plain": [
       "Name            0\n",
       "State           0\n",
       "Abbreviation    0\n",
       "Location        0\n",
       "Funding         0\n",
       "Founded         0\n",
       "dtype: int64"
      ]
     },
     "execution_count": 5,
     "metadata": {},
     "output_type": "execute_result"
    }
   ],
   "source": [
    "#check missing values\n",
    "nig_unis.isnull().sum()"
   ]
  },
  {
   "cell_type": "markdown",
   "metadata": {},
   "source": [
    "No missing entries"
   ]
  },
  {
   "cell_type": "code",
   "execution_count": 6,
   "metadata": {},
   "outputs": [
    {
     "data": {
      "text/plain": [
       "0"
      ]
     },
     "execution_count": 6,
     "metadata": {},
     "output_type": "execute_result"
    }
   ],
   "source": [
    "#check duplicated rows\n",
    "nig_unis.duplicated().sum()"
   ]
  },
  {
   "cell_type": "code",
   "execution_count": 7,
   "metadata": {},
   "outputs": [
    {
     "data": {
      "text/plain": [
       "array(['State', 'Federal', 'Private', 'private'], dtype=object)"
      ]
     },
     "execution_count": 7,
     "metadata": {},
     "output_type": "execute_result"
    }
   ],
   "source": [
    "nig_unis['Funding'].unique()"
   ]
  },
  {
   "cell_type": "markdown",
   "metadata": {},
   "source": [
    "'private' with a lower case p is an error."
   ]
  },
  {
   "cell_type": "code",
   "execution_count": 8,
   "metadata": {},
   "outputs": [
    {
     "data": {
      "text/html": [
       "<div>\n",
       "<style scoped>\n",
       "    .dataframe tbody tr th:only-of-type {\n",
       "        vertical-align: middle;\n",
       "    }\n",
       "\n",
       "    .dataframe tbody tr th {\n",
       "        vertical-align: top;\n",
       "    }\n",
       "\n",
       "    .dataframe thead th {\n",
       "        text-align: right;\n",
       "    }\n",
       "</style>\n",
       "<table border=\"1\" class=\"dataframe\">\n",
       "  <thead>\n",
       "    <tr style=\"text-align: right;\">\n",
       "      <th></th>\n",
       "      <th>Name</th>\n",
       "      <th>State</th>\n",
       "      <th>Abbreviation</th>\n",
       "      <th>Location</th>\n",
       "      <th>Funding</th>\n",
       "      <th>Founded</th>\n",
       "    </tr>\n",
       "  </thead>\n",
       "  <tbody>\n",
       "    <tr>\n",
       "      <th>31</th>\n",
       "      <td>International Open Institute</td>\n",
       "      <td>Lagos</td>\n",
       "      <td>IOI</td>\n",
       "      <td>Ikorodu</td>\n",
       "      <td>private</td>\n",
       "      <td>2017</td>\n",
       "    </tr>\n",
       "  </tbody>\n",
       "</table>\n",
       "</div>"
      ],
      "text/plain": [
       "                            Name  State Abbreviation Location  Funding Founded\n",
       "31  International Open Institute  Lagos          IOI  Ikorodu  private    2017"
      ]
     },
     "execution_count": 8,
     "metadata": {},
     "output_type": "execute_result"
    }
   ],
   "source": [
    "#see rows with lowercase 'p'\n",
    "error_fundind_rows = nig_unis[nig_unis['Funding'] == 'private']\n",
    "error_fundind_rows"
   ]
  },
  {
   "cell_type": "code",
   "execution_count": 9,
   "metadata": {},
   "outputs": [
    {
     "data": {
      "text/plain": [
       "array(['State', 'Federal', 'Private'], dtype=object)"
      ]
     },
     "execution_count": 9,
     "metadata": {},
     "output_type": "execute_result"
    }
   ],
   "source": [
    "#correct the discrepancies in funding\n",
    "nig_unis['Funding'] = nig_unis['Funding'].str.replace(\"private\", \"Private\")\n",
    "nig_unis['Funding'].unique()"
   ]
  },
  {
   "cell_type": "code",
   "execution_count": 10,
   "metadata": {},
   "outputs": [
    {
     "name": "stdout",
     "output_type": "stream",
     "text": [
      "<class 'pandas.core.frame.DataFrame'>\n",
      "RangeIndex: 78 entries, 0 to 77\n",
      "Data columns (total 6 columns):\n",
      " #   Column        Non-Null Count  Dtype \n",
      "---  ------        --------------  ----- \n",
      " 0   Name          78 non-null     object\n",
      " 1   State         78 non-null     object\n",
      " 2   Abbreviation  78 non-null     object\n",
      " 3   Location      78 non-null     object\n",
      " 4   Funding       78 non-null     object\n",
      " 5   Founded       78 non-null     object\n",
      "dtypes: object(6)\n",
      "memory usage: 3.8+ KB\n"
     ]
    }
   ],
   "source": [
    "nig_unis.info()"
   ]
  },
  {
   "cell_type": "code",
   "execution_count": 11,
   "metadata": {},
   "outputs": [
    {
     "data": {
      "text/plain": [
       "array(['1999', '1961', '1981', '2006', '2005', '2010', '2009', '2000',\n",
       "       '1980', '2002', '2007', '1962', '2005 (1)', '1977', '1959', '2011',\n",
       "       '2004', '1992', '2008', '', '2017', '1983', '1956', '2021', '1996',\n",
       "       '2016', '2012', '1988', '2015', '2021[3]', '2001', '2009[4]',\n",
       "       '2018', '1970', '1975', '1948', '1971', '1955', '2019', '2013'],\n",
       "      dtype=object)"
      ]
     },
     "execution_count": 11,
     "metadata": {},
     "output_type": "execute_result"
    }
   ],
   "source": [
    "nig_unis.Founded.unique()"
   ]
  },
  {
   "cell_type": "code",
   "execution_count": 12,
   "metadata": {},
   "outputs": [],
   "source": [
    "#change year founded to integer\n",
    "#funtion to change year founded to integer\n",
    "def string_float(num):\n",
    "    if len(num) == 0:\n",
    "        return None\n",
    "    elif len(num) > 4:\n",
    "        num = num[:4]\n",
    "\n",
    "    return int(num)"
   ]
  },
  {
   "cell_type": "code",
   "execution_count": 13,
   "metadata": {},
   "outputs": [
    {
     "name": "stdout",
     "output_type": "stream",
     "text": [
      "<class 'pandas.core.frame.DataFrame'>\n",
      "RangeIndex: 78 entries, 0 to 77\n",
      "Data columns (total 6 columns):\n",
      " #   Column        Non-Null Count  Dtype  \n",
      "---  ------        --------------  -----  \n",
      " 0   Name          78 non-null     object \n",
      " 1   State         78 non-null     object \n",
      " 2   Abbreviation  78 non-null     object \n",
      " 3   Location      78 non-null     object \n",
      " 4   Funding       78 non-null     object \n",
      " 5   Founded       77 non-null     float64\n",
      "dtypes: float64(1), object(5)\n",
      "memory usage: 3.8+ KB\n"
     ]
    }
   ],
   "source": [
    "nig_unis['Founded'] = nig_unis['Founded'].apply(string_float)\n",
    "nig_unis.info()"
   ]
  },
  {
   "cell_type": "markdown",
   "metadata": {},
   "source": [
    "#### Some EDA"
   ]
  },
  {
   "cell_type": "code",
   "execution_count": 14,
   "metadata": {},
   "outputs": [
    {
     "data": {
      "image/png": "[encoded data removed]",
      "text/plain": [
       "<Figure size 432x576 with 1 Axes>"
      ]
     },
     "metadata": {
      "needs_background": "light"
     },
     "output_type": "display_data"
    }
   ],
   "source": [
    "base_color = sns.color_palette()[0]\n",
    "plt.figure(figsize = [6,8])\n",
    "sns.countplot(data = nig_unis, y = 'Founded', color = base_color)\n",
    "plt.title('Number of Nigerian Universities based on year of establishment');"
   ]
  },
  {
   "cell_type": "markdown",
   "metadata": {},
   "source": [
    "10 Nigerian universities were established in the year 2005.\n",
    "\n",
    "5 Nigerian universities were established in the years 2002 and 2011.\n",
    "\n",
    "4 Nigerian universities were established in the years 1981 and 2009.\n",
    "\n",
    "3 Nigerian universities were established in the years 1992, 2006, 2007, 2012, and 2015.\n",
    "\n",
    "The first Nigerian University was founded in the year 1948."
   ]
  },
  {
   "cell_type": "code",
   "execution_count": 15,
   "metadata": {},
   "outputs": [
    {
     "data": {
      "text/html": [
       "<div>\n",
       "<style scoped>\n",
       "    .dataframe tbody tr th:only-of-type {\n",
       "        vertical-align: middle;\n",
       "    }\n",
       "\n",
       "    .dataframe tbody tr th {\n",
       "        vertical-align: top;\n",
       "    }\n",
       "\n",
       "    .dataframe thead th {\n",
       "        text-align: right;\n",
       "    }\n",
       "</style>\n",
       "<table border=\"1\" class=\"dataframe\">\n",
       "  <thead>\n",
       "    <tr style=\"text-align: right;\">\n",
       "      <th></th>\n",
       "      <th>Name</th>\n",
       "      <th>State</th>\n",
       "      <th>Abbreviation</th>\n",
       "      <th>Location</th>\n",
       "      <th>Funding</th>\n",
       "      <th>Founded</th>\n",
       "    </tr>\n",
       "  </thead>\n",
       "  <tbody>\n",
       "    <tr>\n",
       "      <th>69</th>\n",
       "      <td>University of Ibadan</td>\n",
       "      <td>Oyo</td>\n",
       "      <td>UI</td>\n",
       "      <td>Ibadan</td>\n",
       "      <td>Federal</td>\n",
       "      <td>1948.0</td>\n",
       "    </tr>\n",
       "  </tbody>\n",
       "</table>\n",
       "</div>"
      ],
      "text/plain": [
       "                    Name State Abbreviation Location  Funding  Founded\n",
       "69  University of Ibadan   Oyo           UI   Ibadan  Federal   1948.0"
      ]
     },
     "execution_count": 15,
     "metadata": {},
     "output_type": "execute_result"
    }
   ],
   "source": [
    "#Oldest Nigeria university\n",
    "nig_unis[nig_unis['Founded'] == 1948]"
   ]
  },
  {
   "cell_type": "code",
   "execution_count": 16,
   "metadata": {},
   "outputs": [
    {
     "name": "stderr",
     "output_type": "stream",
     "text": [
      "/Users/vivian/.pyenv/versions/3.9.8/lib/python3.9/site-packages/seaborn/_decorators.py:36: FutureWarning: Pass the following variable as a keyword arg: x. From version 0.12, the only valid positional argument will be `data`, and passing other arguments without an explicit keyword will result in an error or misinterpretation.\n",
      "  warnings.warn(\n"
     ]
    },
    {
     "data": {
      "image/png": "[encoded data removed]",
      "text/plain": [
       "<Figure size 864x432 with 2 Axes>"
      ]
     },
     "metadata": {
      "needs_background": "light"
     },
     "output_type": "display_data"
    }
   ],
   "source": [
    "vc_funding = nig_unis['Funding'].value_counts()\n",
    "plt.figure(figsize = [12,6])\n",
    "\n",
    "plt.subplot(1,2,1)\n",
    "sns.countplot(nig_unis['Funding'], order = vc_funding.index)\n",
    "plt.title('Nigeria Universities Grouped by Funding')\n",
    "\n",
    "plt.subplot(1,2,2)\n",
    "plt.pie(vc_funding, labels = vc_funding.index, autopct = '%0.2f%%')\n",
    "plt.title('Nigeria Universities Grouped by Funding');"
   ]
  }
 ],
 "metadata": {
  "kernelspec": {
   "display_name": "Python 3 (ipykernel)",
   "language": "python",
   "name": "python3"
  },
  "language_info": {
   "codemirror_mode": {
    "name": "ipython",
    "version": 3
   },
   "file_extension": ".py",
   "mimetype": "text/x-python",
   "name": "python",
   "nbconvert_exporter": "python",
   "pygments_lexer": "ipython3",
   "version": "3.9.8"
  }
 },
 "nbformat": 4,
 "nbformat_minor": 2
}
